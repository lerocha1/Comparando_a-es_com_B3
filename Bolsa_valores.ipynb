{
 "cells": [
  {
   "cell_type": "code",
   "execution_count": 25,
   "id": "f763998d",
   "metadata": {},
   "outputs": [],
   "source": [
    "import investpy as inv\n",
    "import pandas_datareader as web\n",
    "import matplotlib.pyplot as plt\n",
    "import numpy as np\n",
    "import pandas as pd"
   ]
  },
  {
   "cell_type": "code",
   "execution_count": 26,
   "id": "f9396e1c",
   "metadata": {},
   "outputs": [],
   "source": [
    "search_result = inv.search_quotes(text='TOTS3.SA', products=['stocks'],\n",
    "                                       countries=['brazil'], n_results=1)"
   ]
  },
  {
   "cell_type": "code",
   "execution_count": 27,
   "id": "59e24111",
   "metadata": {},
   "outputs": [
    {
     "name": "stdout",
     "output_type": "stream",
     "text": [
      "{\"id_\": 18801, \"name\": \"Totvs SA\", \"symbol\": \"TOTS3\", \"country\": \"brazil\", \"tag\": \"/equities/totvs-on-ej-nm\", \"pair_type\": \"stocks\", \"exchange\": \"BM&FBovespa\"}\n"
     ]
    }
   ],
   "source": [
    "print(search_result)"
   ]
  },
  {
   "cell_type": "code",
   "execution_count": 28,
   "id": "983792a5",
   "metadata": {},
   "outputs": [
    {
     "name": "stdout",
     "output_type": "stream",
     "text": [
      "             Open   High    Low  Close   Volume  Change Pct\n",
      "Date                                                       \n",
      "2019-01-02   8.94   9.51   8.94   9.46  2389203        5.82\n",
      "2019-01-03   9.58   9.69   9.42   9.68  2295902        2.33\n",
      "2019-01-04   9.69  10.07   9.45   9.95  1548602        2.79\n",
      "2019-01-07  10.06  10.07   9.51   9.73  1675502       -2.21\n",
      "2019-01-08   9.68   9.79   9.34   9.34  2816103       -4.01\n",
      "2019-01-09   9.43  10.00   9.33   9.70  2471403        3.85\n",
      "2019-01-10   9.61   9.98   9.61   9.88  2538303        1.86\n",
      "2019-01-11   9.76  10.07   9.76   9.97  1378501        0.91\n",
      "2019-01-14   9.88  10.54   9.88  10.26  3377104        2.91\n",
      "2019-01-15  10.26  10.80  10.26  10.58  3444604        3.12\n",
      "2019-01-16  10.55  10.67  10.47  10.47  1434901       -1.04\n",
      "2019-01-17  10.52  10.88  10.40  10.74  3548704        2.58\n"
     ]
    }
   ],
   "source": [
    "historical_data = search_result.retrieve_historical_data(from_date='01/01/2019', to_date='06/12/2021')\n",
    "print(historical_data.head(12))"
   ]
  },
  {
   "cell_type": "code",
   "execution_count": 29,
   "id": "afc9ed08",
   "metadata": {},
   "outputs": [
    {
     "name": "stdout",
     "output_type": "stream",
     "text": [
      "             Open   High    Low  Close   Volume  Change Pct\n",
      "Date                                                       \n",
      "2021-11-08  34.63  35.03  34.22  34.50  1773900       -1.43\n",
      "2021-11-09  34.68  36.16  34.59  35.11  2470200        1.77\n",
      "2021-11-10  35.05  35.74  34.75  35.10  2502100       -0.03\n",
      "2021-11-11  35.49  36.95  35.40  36.36  4158400        3.59\n",
      "2021-11-12  36.60  36.60  35.28  35.56  3167800       -2.20\n"
     ]
    }
   ],
   "source": [
    "recent_data = search_result.retrieve_recent_data()\n",
    "print(recent_data.head())"
   ]
  },
  {
   "cell_type": "code",
   "execution_count": 30,
   "id": "9c9fe564",
   "metadata": {},
   "outputs": [
    {
     "name": "stdout",
     "output_type": "stream",
     "text": [
      "{'prevClose': 30.62, 'dailyRange': '30.57-31.03', 'revenue': 3030000000, 'open': 30.78, 'weekRange': '24.99-41.24', 'eps': 0.59, 'volume': 113400, 'marketCap': 18620000000, 'dividend': '0.28(0.82%)', 'avgVolume': 4207856, 'ratio': 51.64, 'beta': 0.82, 'oneYearReturn': '17.27%', 'sharesOutstanding': 608078288, 'nextEarningDate': '09/02/2022'}\n"
     ]
    }
   ],
   "source": [
    "information = search_result.retrieve_information()\n",
    "print(information)"
   ]
  },
  {
   "cell_type": "code",
   "execution_count": 31,
   "id": "85c2548f",
   "metadata": {},
   "outputs": [
    {
     "name": "stdout",
     "output_type": "stream",
     "text": [
      "BRL\n"
     ]
    }
   ],
   "source": [
    "default_currency = search_result.retrieve_currency()\n",
    "print(default_currency)"
   ]
  },
  {
   "cell_type": "code",
   "execution_count": 32,
   "id": "f6f96a82",
   "metadata": {},
   "outputs": [
    {
     "name": "stdout",
     "output_type": "stream",
     "text": [
      "              indicator           signal    value\n",
      "0               RSI(14)             sell  38.3130\n",
      "1            STOCH(9,6)             sell  24.2300\n",
      "2          STOCHRSI(14)             sell  25.3830\n",
      "3           MACD(12,26)             sell  -1.1000\n",
      "4               ADX(14)          neutral  25.6310\n",
      "5           Williams %R         oversold -82.7590\n",
      "6               CCI(14)             sell -77.7165\n",
      "7               ATR(14)  less_volatility   1.6157\n",
      "8        Highs/Lows(14)             sell  -0.6607\n",
      "9   Ultimate Oscillator             sell  37.5300\n",
      "10                  ROC             sell -11.1850\n",
      "11  Bull/Bear Power(13)             sell  -1.5940\n"
     ]
    }
   ],
   "source": [
    "technical_indicators = search_result.retrieve_technical_indicators(interval=\"daily\")\n",
    "print(technical_indicators)"
   ]
  },
  {
   "cell_type": "code",
   "execution_count": null,
   "id": "99f6eea9",
   "metadata": {},
   "outputs": [],
   "source": []
  }
 ],
 "metadata": {
  "kernelspec": {
   "display_name": "Python 3",
   "language": "python",
   "name": "python3"
  },
  "language_info": {
   "codemirror_mode": {
    "name": "ipython",
    "version": 3
   },
   "file_extension": ".py",
   "mimetype": "text/x-python",
   "name": "python",
   "nbconvert_exporter": "python",
   "pygments_lexer": "ipython3",
   "version": "3.8.8"
  }
 },
 "nbformat": 4,
 "nbformat_minor": 5
}
